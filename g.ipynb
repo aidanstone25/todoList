{
 "cells": [
  {
   "cell_type": "code",
   "execution_count": null,
   "metadata": {},
   "outputs": [],
   "source": [
    "f = \"C:\\Users\\aidan\\OneDrive\\Documents\\VSCPython\\270groupprojectfinal\\concertfinder\\README.md\"\n"
   ]
  }
 ],
 "metadata": {
  "language_info": {
   "name": "python"
  },
  "orig_nbformat": 4
 },
 "nbformat": 4,
 "nbformat_minor": 2
}
